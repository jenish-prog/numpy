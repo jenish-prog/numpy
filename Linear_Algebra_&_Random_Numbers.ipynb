{
 "cells": [
  {
   "cell_type": "code",
   "execution_count": 5,
   "id": "6523f4fa-947e-436a-acfe-602d4765970d",
   "metadata": {},
   "outputs": [],
   "source": [
    "import numpy as np"
   ]
  },
  {
   "cell_type": "markdown",
   "id": "b6955951-2440-417b-9e2a-12be06edb24e",
   "metadata": {},
   "source": [
    "### Dot operation"
   ]
  },
  {
   "cell_type": "code",
   "execution_count": 98,
   "id": "1db4c244-59d5-4ced-87f1-368013d4deb2",
   "metadata": {},
   "outputs": [],
   "source": [
    "a,b = np.arange(3),np.arange(3,6)"
   ]
  },
  {
   "cell_type": "code",
   "execution_count": 100,
   "id": "28c95063-58b5-4982-96f5-ceab72e5bbfc",
   "metadata": {},
   "outputs": [
    {
     "name": "stdout",
     "output_type": "stream",
     "text": [
      "[0 1 2]\n",
      "[3 4 5]\n"
     ]
    }
   ],
   "source": [
    "print(a)\n",
    "print(b)"
   ]
  },
  {
   "cell_type": "code",
   "execution_count": 102,
   "id": "239bbc8a-e734-44a4-b3e3-c65358816022",
   "metadata": {},
   "outputs": [
    {
     "data": {
      "text/plain": [
       "14"
      ]
     },
     "execution_count": 102,
     "metadata": {},
     "output_type": "execute_result"
    }
   ],
   "source": [
    "np.dot(a,b) #0*1 = 0, 1*4 = 4, 2*5 = 10, 0+4+10 = 14 "
   ]
  },
  {
   "cell_type": "code",
   "execution_count": 104,
   "id": "3bd986d4-3c2a-4486-816f-4c850e806105",
   "metadata": {},
   "outputs": [
    {
     "name": "stdout",
     "output_type": "stream",
     "text": [
      "14\n"
     ]
    }
   ],
   "source": [
    "print(a @ b) #same"
   ]
  },
  {
   "cell_type": "markdown",
   "id": "360b0dc1-595f-4102-8aa0-1e38ba255ff3",
   "metadata": {},
   "source": [
    "### Matrix multiplication"
   ]
  },
  {
   "cell_type": "code",
   "execution_count": 157,
   "id": "75d46b15-46fd-4ffe-89c8-3ae1c29b5dca",
   "metadata": {},
   "outputs": [
    {
     "name": "stdout",
     "output_type": "stream",
     "text": [
      "[[40 41]\n",
      " [42 43]]\n",
      "[[20 21]\n",
      " [22 23]]\n",
      "[[1702 1783]\n",
      " [1786 1871]]\n"
     ]
    }
   ],
   "source": [
    "c = np.arange(40,44).reshape(2,2)\n",
    "d = np.arange(20,24).reshape(2,2)\n",
    "print(c)\n",
    "print(d)\n",
    "\n",
    "result = np.matmul(c, d)\n",
    "print(result)"
   ]
  },
  {
   "cell_type": "markdown",
   "id": "1f2038d5-cf81-4876-b7ca-fd387c0c9645",
   "metadata": {},
   "source": [
    "### Determinant & inverse"
   ]
  },
  {
   "cell_type": "code",
   "execution_count": 179,
   "id": "674991c9-978d-47b5-b178-0f634d311dbc",
   "metadata": {},
   "outputs": [
    {
     "data": {
      "text/plain": [
       "-3.999999999999999"
      ]
     },
     "execution_count": 179,
     "metadata": {},
     "output_type": "execute_result"
    }
   ],
   "source": [
    "a = np.array([[1,2],\n",
    "              [5,6]])\n",
    "np.linalg.det(a)"
   ]
  },
  {
   "cell_type": "code",
   "execution_count": 183,
   "id": "162ad3b5-6bc9-4604-9375-3a9dc3fd1848",
   "metadata": {},
   "outputs": [
    {
     "data": {
      "text/plain": [
       "array([[ 0.6, -0.7],\n",
       "       [-0.2,  0.4]])"
      ]
     },
     "execution_count": 183,
     "metadata": {},
     "output_type": "execute_result"
    }
   ],
   "source": [
    "b = np.array([[4,7],[2,6]])\n",
    "np.linalg.inv(b)"
   ]
  },
  {
   "cell_type": "markdown",
   "id": "59c5ecb7-d17d-4be6-8af5-154e47a6d722",
   "metadata": {},
   "source": [
    "## Eigenvalues & eigenvectors"
   ]
  },
  {
   "cell_type": "code",
   "execution_count": 16,
   "id": "0bbe2d93-fb16-44b3-a19f-acb2cf9ad066",
   "metadata": {},
   "outputs": [
    {
     "name": "stdout",
     "output_type": "stream",
     "text": [
      "eigenvalues: [3.+4.12310563j 3.-4.12310563j]\n",
      "eigenvectors: [[ 0.83666003+0.j          0.83666003-0.j        ]\n",
      " [-0.23904572-0.49280538j -0.23904572+0.49280538j]]\n"
     ]
    }
   ],
   "source": [
    "a = np.array([[1,-7],[3,5]])\n",
    "eigenvalues,eigenvectors = np.linalg.eig(a)\n",
    "\n",
    "print(\"eigenvalues:\",eigenvalues)\n",
    "print(\"eigenvectors:\",eigenvectors)"
   ]
  },
  {
   "cell_type": "markdown",
   "id": "09032396-1590-4536-8912-fd428d333b57",
   "metadata": {},
   "source": [
    "## Generating random numbers"
   ]
  },
  {
   "cell_type": "code",
   "execution_count": 19,
   "id": "ce9e19ea-1cc3-45bf-b280-abdce8139090",
   "metadata": {},
   "outputs": [
    {
     "data": {
      "text/plain": [
       "array([[1, 3, 3],\n",
       "       [5, 2, 8],\n",
       "       [8, 8, 4]])"
      ]
     },
     "execution_count": 19,
     "metadata": {},
     "output_type": "execute_result"
    }
   ],
   "source": [
    "nums = np.random.randint(1,10,size = (3,3))\n",
    "nums"
   ]
  },
  {
   "cell_type": "code",
   "execution_count": 33,
   "id": "21f0e954-8987-420e-823e-c4c22c3b1c29",
   "metadata": {},
   "outputs": [
    {
     "data": {
      "text/plain": [
       "array([[-3.34540493,  0.76756015, -1.61366157],\n",
       "       [ 1.16016838, -0.76705198,  7.92621296],\n",
       "       [-3.09562467, -0.27003422,  1.77995728]])"
      ]
     },
     "execution_count": 33,
     "metadata": {},
     "output_type": "execute_result"
    }
   ],
   "source": [
    "nums = np.random.normal(loc = 0,scale = 5,size = (3,3))\n",
    "nums"
   ]
  },
  {
   "cell_type": "code",
   "execution_count": 35,
   "id": "f2b89102-a9d3-439d-851d-5f4c57bea8b7",
   "metadata": {},
   "outputs": [
    {
     "data": {
      "text/plain": [
       "array([[0.18969724, 0.22765945, 0.79889675],\n",
       "       [0.87341675, 0.03964159, 0.86527264],\n",
       "       [0.04191786, 0.33251972, 0.42136322]])"
      ]
     },
     "execution_count": 35,
     "metadata": {},
     "output_type": "execute_result"
    }
   ],
   "source": [
    "np.random.rand(3,3)"
   ]
  },
  {
   "cell_type": "markdown",
   "id": "b5dee09c-0022-44ac-9a4f-fbfa350639b6",
   "metadata": {},
   "source": [
    "## Setting random seed "
   ]
  },
  {
   "cell_type": "code",
   "execution_count": 44,
   "id": "7d5592af-c38b-412c-a8c4-d7e8ad5fb0e1",
   "metadata": {},
   "outputs": [
    {
     "data": {
      "text/plain": [
       "array([52, 93, 15])"
      ]
     },
     "execution_count": 44,
     "metadata": {},
     "output_type": "execute_result"
    }
   ],
   "source": [
    "np.random.seed(42)\n",
    "\n",
    "nums = np.random.randint(1,100,size = 3)\n",
    "nums"
   ]
  },
  {
   "cell_type": "markdown",
   "id": "5222832a-d2f9-4a07-bc54-e9e43c34542b",
   "metadata": {},
   "source": [
    "## Practice"
   ]
  },
  {
   "cell_type": "code",
   "execution_count": 9,
   "id": "ede6f500-3163-4e67-badc-8ae3417961f6",
   "metadata": {},
   "outputs": [
    {
     "data": {
      "text/plain": [
       "array([[1526, 1587],\n",
       "       [1626, 1691]])"
      ]
     },
     "execution_count": 9,
     "metadata": {},
     "output_type": "execute_result"
    }
   ],
   "source": [
    "a = np.arange(30,34).reshape(2,2)\n",
    "b = np.arange(24,28).reshape(2,2)\n",
    "np.matmul(a,b)"
   ]
  },
  {
   "cell_type": "code",
   "execution_count": 11,
   "id": "144d49a6-c3e8-4cb6-ad3b-53c832699d0c",
   "metadata": {},
   "outputs": [
    {
     "data": {
      "text/plain": [
       "array([52, 93, 15])"
      ]
     },
     "execution_count": 11,
     "metadata": {},
     "output_type": "execute_result"
    }
   ],
   "source": [
    "np.random.seed(42)\n",
    "nums = np.random.randint(1,100,size = 3)\n",
    "nums"
   ]
  },
  {
   "cell_type": "code",
   "execution_count": null,
   "id": "79cd1860-9812-416c-9da1-91cd11fe3fea",
   "metadata": {},
   "outputs": [],
   "source": []
  }
 ],
 "metadata": {
  "kernelspec": {
   "display_name": "Python [conda env:base] *",
   "language": "python",
   "name": "conda-base-py"
  },
  "language_info": {
   "codemirror_mode": {
    "name": "ipython",
    "version": 3
   },
   "file_extension": ".py",
   "mimetype": "text/x-python",
   "name": "python",
   "nbconvert_exporter": "python",
   "pygments_lexer": "ipython3",
   "version": "3.12.2"
  }
 },
 "nbformat": 4,
 "nbformat_minor": 5
}
