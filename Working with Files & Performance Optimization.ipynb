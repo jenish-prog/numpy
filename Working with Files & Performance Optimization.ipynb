{
 "cells": [
  {
   "cell_type": "markdown",
   "id": "071f5bfe-7161-43b7-9a26-26d2b67cf28d",
   "metadata": {},
   "source": [
    "### saving single numpy array"
   ]
  },
  {
   "cell_type": "code",
   "execution_count": 6,
   "id": "086b2d80-b325-4a21-ad99-d0a909afaf4f",
   "metadata": {},
   "outputs": [],
   "source": [
    "import numpy as np"
   ]
  },
  {
   "cell_type": "code",
   "execution_count": 4,
   "id": "2108c48a-1864-4937-aea9-e0e41de12d5a",
   "metadata": {},
   "outputs": [],
   "source": [
    "arr = np.array([1,2,3,4,5])\n",
    "np.save('my_array.npy',arr)"
   ]
  },
  {
   "cell_type": "code",
   "execution_count": 6,
   "id": "ecc3836b-bef2-4280-8c66-87d68a5f27e5",
   "metadata": {},
   "outputs": [
    {
     "name": "stdout",
     "output_type": "stream",
     "text": [
      "[1 2 3 4 5]\n"
     ]
    }
   ],
   "source": [
    "loaded_arr = np.load('my_array.npy')\n",
    "print(loaded_arr)"
   ]
  },
  {
   "cell_type": "markdown",
   "id": "5ff6e5b8-a4e3-4694-9ec1-5fbbf59ce690",
   "metadata": {},
   "source": [
    "### save multiple array"
   ]
  },
  {
   "cell_type": "code",
   "execution_count": 20,
   "id": "0532eefa-1540-46ff-9afc-959872066d8d",
   "metadata": {},
   "outputs": [],
   "source": [
    "arr1 = np.array([6,7,8,9,10])\n",
    "arr2 = np.array([[11,12],[13,14]])\n",
    "np.savez(\"multi_array.npz\",first = arr1,second = arr2)"
   ]
  },
  {
   "cell_type": "code",
   "execution_count": 30,
   "id": "eaa961ea-24c3-4f73-93c0-774c27ce5cca",
   "metadata": {},
   "outputs": [
    {
     "name": "stdout",
     "output_type": "stream",
     "text": [
      "[ 6  7  8  9 10]\n",
      "[[11 12]\n",
      " [13 14]]\n"
     ]
    }
   ],
   "source": [
    "lead_multi_arr = np.load(\"multi_array.npz\")\n",
    "print(lead_multi_arr['first'])\n",
    "print(lead_multi_arr['second'])"
   ]
  },
  {
   "cell_type": "markdown",
   "id": "0de22e22-e290-4431-9959-d34147c5b6e0",
   "metadata": {},
   "source": [
    "### loading from txt"
   ]
  },
  {
   "cell_type": "code",
   "execution_count": 11,
   "id": "faedd3c3-4353-42c6-b8ea-aaeff4c0538e",
   "metadata": {},
   "outputs": [
    {
     "data": {
      "text/plain": [
       "array([[2.00000e+00,         nan, 3.30000e+01, ..., 1.00000e+00,\n",
       "                nan, 1.00000e+00],\n",
       "       [8.00000e+00,         nan, 2.40000e+01, ..., 2.00000e+00,\n",
       "                nan, 0.00000e+00],\n",
       "       [2.60000e+01,         nan, 3.10000e+01, ..., 1.00000e+00,\n",
       "                nan, 0.00000e+00],\n",
       "       ...,\n",
       "       [1.40689e+05,         nan, 3.10000e+01, ..., 2.00000e+00,\n",
       "                nan, 0.00000e+00],\n",
       "       [1.40690e+05,         nan, 1.80000e+01, ..., 5.00000e+00,\n",
       "                nan, 1.00000e+00],\n",
       "       [1.40699e+05,         nan, 2.70000e+01, ..., 3.00000e+00,\n",
       "                nan, 1.00000e+00]])"
      ]
     },
     "execution_count": 11,
     "metadata": {},
     "output_type": "execute_result"
    }
   ],
   "source": [
    "data = np.genfromtxt(\"student_depression_dataset.csv\", delimiter=',', skip_header=1)\n",
    "data"
   ]
  },
  {
   "cell_type": "markdown",
   "id": "3b5251f5-cc54-408b-9684-bb5fe0bec208",
   "metadata": {},
   "source": [
    "### vectorization vs loops(why numpy is faster)"
   ]
  },
  {
   "cell_type": "code",
   "execution_count": 10,
   "id": "b2d62fd3-8ef0-42ce-a4e4-a81993556066",
   "metadata": {},
   "outputs": [
    {
     "data": {
      "text/plain": [
       "array([5, 7, 9])"
      ]
     },
     "execution_count": 10,
     "metadata": {},
     "output_type": "execute_result"
    }
   ],
   "source": [
    "a = np.array([1,2,3])\n",
    "b = np.array([4,5,6])\n",
    "a + b"
   ]
  },
  {
   "cell_type": "code",
   "execution_count": 19,
   "id": "228aa3a8-d3d9-4225-8981-850012a564e0",
   "metadata": {},
   "outputs": [
    {
     "data": {
      "text/plain": [
       "[5, 7, 9]"
      ]
     },
     "execution_count": 19,
     "metadata": {},
     "output_type": "execute_result"
    }
   ],
   "source": [
    "a = np.array([1,2,3])\n",
    "b = np.array([4,5,6])\n",
    "result = [a[i] + b[i] for  i in range (len(a))]\n",
    "result"
   ]
  }
 ],
 "metadata": {
  "kernelspec": {
   "display_name": "Python [conda env:base] *",
   "language": "python",
   "name": "conda-base-py"
  },
  "language_info": {
   "codemirror_mode": {
    "name": "ipython",
    "version": 3
   },
   "file_extension": ".py",
   "mimetype": "text/x-python",
   "name": "python",
   "nbconvert_exporter": "python",
   "pygments_lexer": "ipython3",
   "version": "3.12.2"
  }
 },
 "nbformat": 4,
 "nbformat_minor": 5
}
